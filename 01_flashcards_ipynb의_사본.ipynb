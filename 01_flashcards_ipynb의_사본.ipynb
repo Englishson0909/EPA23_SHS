{
  "nbformat": 4,
  "nbformat_minor": 0,
  "metadata": {
    "colab": {
      "provenance": [],
      "include_colab_link": true
    },
    "kernelspec": {
      "name": "python3",
      "display_name": "Python 3"
    },
    "language_info": {
      "name": "python"
    }
  },
  "cells": [
    {
      "cell_type": "markdown",
      "metadata": {
        "id": "view-in-github",
        "colab_type": "text"
      },
      "source": [
        "<a href=\"https://colab.research.google.com/github/Englishson0909/EPA23_SHS/blob/main/01_flashcards_ipynb%EC%9D%98_%EC%82%AC%EB%B3%B8.ipynb\" target=\"_parent\"><img src=\"https://colab.research.google.com/assets/colab-badge.svg\" alt=\"Open In Colab\"/></a>"
      ]
    },
    {
      "cell_type": "markdown",
      "source": [
        "#1. Flashcards\n",
        "\n",
        "+ Get a text ready (use chatGPT)\n",
        "+ save the text on your github and get the link"
      ],
      "metadata": {
        "id": "ObOwH9ZnO-Vn"
      }
    },
    {
      "cell_type": "markdown",
      "source": [
        "Step 1. Create a dictionary {'word':'answer'}"
      ],
      "metadata": {
        "id": "CHGAXq7jNPkj"
      }
    },
    {
      "cell_type": "code",
      "execution_count": 4,
      "metadata": {
        "colab": {
          "base_uri": "https://localhost:8080/"
        },
        "id": "S9FJrZTwKgvU",
        "outputId": "abd50a8e-3b5f-4602-c703-1e34cab5a537"
      },
      "outputs": [
        {
          "output_type": "stream",
          "name": "stdout",
          "text": [
            "[('robbery', '강도짓, 도난'), ('suspect', '용의자'), ('guilty', '유죄'), ('innocent', '무죄')]\n"
          ]
        }
      ],
      "source": [
        "import csv\n",
        "\n",
        "def read_flashcards(filename):\n",
        "    flashcards = []\n",
        "    with open(filename, mode='r', encoding='utf-8') as csvfile:\n",
        "        csvreader = csv.reader(csvfile)\n",
        "        for row in csvreader:\n",
        "            flashcards.append((row[0], row[1]))\n",
        "    return flashcards\n",
        "\n",
        "def write_flashcards(flashcards, filename):\n",
        "    with open(filename, mode='w', encoding='utf-8', newline='') as csvfile:\n",
        "        csvwriter = csv.writer(csvfile)\n",
        "        for card in flashcards:\n",
        "            csvwriter.writerow(card)\n",
        "\n",
        "# Add more word pairs here\n",
        "def main():\n",
        "    flashcards = [\n",
        "        ('robbery', '강도짓, 도난'),\n",
        "        ('suspect', '용의자'),\n",
        "        ('guilty', '유죄'),\n",
        "        ('innocent', '무죄')\n",
        "    ]\n",
        "\n",
        "    # Write flashcards to file\n",
        "    write_flashcards(flashcards, 'flashcards.csv')\n",
        "\n",
        "    # Read flashcards from file\n",
        "    loaded_flashcards = read_flashcards('flashcards.csv')\n",
        "    print(loaded_flashcards)\n",
        "\n",
        "if __name__ == '__main__':\n",
        "    main()\n"
      ]
    },
    {
      "cell_type": "markdown",
      "source": [
        "Step 2. Flashcard game [1]"
      ],
      "metadata": {
        "id": "b63i4zVOOrvV"
      }
    },
    {
      "cell_type": "code",
      "source": [
        "import csv\n",
        "import random\n",
        "\n",
        "def read_flashcards(filename):\n",
        "    flashcards = []\n",
        "    with open(filename, mode='r', encoding='utf-8') as csvfile:\n",
        "        csvreader = csv.reader(csvfile)\n",
        "        for row in csvreader:\n",
        "            flashcards.append((row[0], row[1]))\n",
        "    return flashcards\n",
        "\n",
        "def game(flashcards):\n",
        "    total_questions = len(flashcards)\n",
        "    correct_answers = 0\n",
        "\n",
        "    for word, translation in flashcards:\n",
        "        print(f\"\\nTranslate the following word: {word}\")\n",
        "        user_input = input(\"> \")\n",
        "\n",
        "        if user_input.lower() == translation.lower():\n",
        "            print(\"Correct!\")\n",
        "            correct_answers += 1\n",
        "        else:\n",
        "            print(f\"Wrong! The correct translation is: {translation}\")\n",
        "\n",
        "    print(f\"\\nYour score: {correct_answers}/{total_questions}\")\n",
        "\n",
        "def main():\n",
        "    flashcards = read_flashcards('flashcards.csv')\n",
        "    random.shuffle(flashcards)\n",
        "    print(\"Welcome to the Flashcard Game! Let's start:\")\n",
        "    game(flashcards)\n",
        "\n",
        "if __name__ == '__main__':\n",
        "    main()\n"
      ],
      "metadata": {
        "colab": {
          "base_uri": "https://localhost:8080/"
        },
        "id": "-a8cM0O5LVzn",
        "outputId": "af403145-d6e6-4da5-8e30-239085e6f8c6"
      },
      "execution_count": 5,
      "outputs": [
        {
          "output_type": "stream",
          "name": "stdout",
          "text": [
            "Welcome to the Flashcard Game! Let's start:\n",
            "\n",
            "Translate the following word: suspect\n",
            "> 용의자\n",
            "Correct!\n",
            "\n",
            "Translate the following word: innocent\n",
            "> 유죄의\n",
            "Wrong! The correct translation is: 무죄\n",
            "\n",
            "Translate the following word: robbery\n",
            "> 도둑질\n",
            "Wrong! The correct translation is: 강도짓, 도난\n",
            "\n",
            "Translate the following word: guilty\n",
            "> 유죄\n",
            "Correct!\n",
            "\n",
            "Your score: 2/4\n"
          ]
        }
      ]
    },
    {
      "cell_type": "markdown",
      "source": [
        "Step 3. Flashcard game: display variation"
      ],
      "metadata": {
        "id": "vGM49WSDOvRG"
      }
    },
    {
      "cell_type": "code",
      "source": [
        "import csv\n",
        "import random\n",
        "\n",
        "def read_flashcards(filename):\n",
        "    flashcards = []\n",
        "    with open(filename, mode='r', encoding='utf-8') as csvfile:\n",
        "        csvreader = csv.reader(csvfile)\n",
        "        for row in csvreader:\n",
        "            flashcards.append((row[0], row[1].split(', ')))\n",
        "    return flashcards\n",
        "\n",
        "def print_yellow_box(word, width=20):\n",
        "    print(\"█\" * (width + 2))\n",
        "    padding = (width - len(word)) // 2\n",
        "    print(\"█\" + \" \" * padding + word + \" \" * (width - len(word) - padding) + \"█\")\n",
        "    print(\"█\" * (width + 2))\n",
        "\n",
        "def game(flashcards):\n",
        "    total_questions = len(flashcards)\n",
        "    correct_answers = 0\n",
        "\n",
        "    for word, translations in flashcards:\n",
        "        print(\"\\nTranslate the following word:\")\n",
        "        print_yellow_box(word)\n",
        "\n",
        "        user_input = input(\"> \")\n",
        "\n",
        "        if user_input.lower() in [t.lower() for t in translations]:\n",
        "            print(\"Correct!\")\n",
        "            correct_answers += 1\n",
        "        else:\n",
        "            print(f\"Wrong! The correct translations are: {', '.join(translations)}\")\n",
        "\n",
        "    print(f\"\\nYour score: {correct_answers}/{total_questions}\")\n",
        "\n",
        "def main():\n",
        "    flashcards = read_flashcards('flashcards.csv')\n",
        "    random.shuffle(flashcards)\n",
        "    print(\"Welcome to the Flashcard Game! Let's start:\")\n",
        "    game(flashcards)\n",
        "\n",
        "if __name__ == '__main__':\n",
        "    main()\n"
      ],
      "metadata": {
        "colab": {
          "base_uri": "https://localhost:8080/"
        },
        "id": "Rkki7BCXN2iB",
        "outputId": "26e137a5-3c85-4265-b3e2-4f8acb419b48"
      },
      "execution_count": null,
      "outputs": [
        {
          "output_type": "stream",
          "name": "stdout",
          "text": [
            "Welcome to the Flashcard Game! Let's start:\n",
            "\n",
            "Translate the following word:\n",
            "██████████████████████\n",
            "█      suspect       █\n",
            "██████████████████████\n",
            "> 용의자\n",
            "Correct!\n",
            "\n",
            "Translate the following word:\n",
            "██████████████████████\n",
            "█      robbery       █\n",
            "██████████████████████\n"
          ]
        }
      ]
    },
    {
      "cell_type": "markdown",
      "source": [
        "## Read csv file on colab using {pandas}"
      ],
      "metadata": {
        "id": "9lzLqUcGO0r9"
      }
    },
    {
      "cell_type": "code",
      "source": [
        "import pandas as pd\n",
        "\n",
        "df = pd.read_csv(\"flashcards.csv\")\n",
        "df"
      ],
      "metadata": {
        "id": "MWhQgYajM3wA"
      },
      "execution_count": null,
      "outputs": []
    }
  ]
}