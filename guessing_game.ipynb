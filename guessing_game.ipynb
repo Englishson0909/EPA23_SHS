{
  "cells": [
    {
      "cell_type": "markdown",
      "metadata": {
        "id": "view-in-github",
        "colab_type": "text"
      },
      "source": [
        "<a href=\"https://colab.research.google.com/github/Englishson0909/EPA23_SHS/blob/main/guessing_game.ipynb\" target=\"_parent\"><img src=\"https://colab.research.google.com/assets/colab-badge.svg\" alt=\"Open In Colab\"/></a>"
      ]
    },
    {
      "cell_type": "code",
      "execution_count": null,
      "metadata": {
        "id": "WvM7l6sVoSyG"
      },
      "outputs": [],
      "source": []
    },
    {
      "cell_type": "code",
      "execution_count": null,
      "metadata": {
        "colab": {
          "background_save": true,
          "base_uri": "https://localhost:8080/"
        },
        "id": "1x46tBBqoTm9",
        "outputId": "15847304-ef87-477a-db37-d8d12773bd23"
      },
      "outputs": [
        {
          "output_type": "stream",
          "name": "stdout",
          "text": [
            "\n",
            "Guess the word based on the following hints:\n",
            "Hint 1: someone who the police think might have done something wrong.\n"
          ]
        }
      ],
      "source": [
        "#@markdown Run this code to see guesiong game\n",
        "import random\n",
        "\n",
        "# Define a dictionary of words and their hints\n",
        "word_hints = {\n",
        "    \"robbery\": [\n",
        "        \"It is a bad behavior that someone forcefully takes things that don't belong to them.\",\n",
        "        \"The person uses threats or weapons to make people give them their money or valuable items.\",\n",
        "        \"The person who does this is called a robber.\",\n",
        "        \"The answer begins with 'r'.\"\n",
        "    ],\n",
        "    \"suspect\": [\n",
        "        \"someone who the police think might have done something wrong.\",\n",
        "        \"When the police are trying to solve a crime, they look for clues and evidence to find out who might be responsible.\",\n",
        "        \"the police want to investigate the person and find out more about thier schedules.\",\n",
        "        \"The answer begins with 's'.\"\n",
        "    ],\n",
        "    \"guilty\": [\n",
        "        \"When people do something wrong, especially against law, they can be  this.\",\n",
        "        \"Whe people are this, they will get punishment.\",\n",
        "        \"The opposite is innocent.\",\n",
        "        \"The answer begins with 'g'.\"\n",
        "    ]\n",
        "}\n",
        "\n",
        "# Define guessing game\n",
        "\n",
        "def guessing_game(word_hints):\n",
        "    words = list(word_hints.keys())\n",
        "    random.shuffle(words)\n",
        "\n",
        "    for word in words:\n",
        "        print(\"\\nGuess the word based on the following hints:\")\n",
        "        hints = word_hints[word]\n",
        "        attempts = 0\n",
        "\n",
        "        while attempts < len(hints):\n",
        "            print(f\"Hint {attempts + 1}: {hints[attempts]}\")\n",
        "            guess = input(\"Your guess: \").strip().lower()\n",
        "\n",
        "            if guess == word.lower():\n",
        "                print(\"Congratulations! You guessed the correct word!\\n\")\n",
        "                break\n",
        "            else:\n",
        "                print(\"Incorrect. Try again with another hint.\\n\")\n",
        "                attempts += 1\n",
        "\n",
        "        if attempts == len(hints):\n",
        "            print(f\"Sorry, you've run out of hints. The correct word was: {word}\\n\")\n",
        "\n",
        "# Using this conditional structure is a common practice in Python to allow a script to be both executed as a standalone program and imported as a module in other scripts without immediately running the code within the script.\n",
        "if __name__ == \"__main__\":\n",
        "  guessing_game(word_hints)"
      ]
    },
    {
      "cell_type": "code",
      "execution_count": null,
      "metadata": {
        "id": "6P46soKZr4FA"
      },
      "outputs": [],
      "source": []
    }
  ],
  "metadata": {
    "colab": {
      "provenance": [],
      "authorship_tag": "ABX9TyMPlxTtwrDxgFerP6i4ElyA",
      "include_colab_link": true
    },
    "kernelspec": {
      "display_name": "Python 3",
      "name": "python3"
    },
    "language_info": {
      "name": "python"
    }
  },
  "nbformat": 4,
  "nbformat_minor": 0
}